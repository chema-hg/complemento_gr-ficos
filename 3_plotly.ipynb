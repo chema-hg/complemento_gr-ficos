{
 "cells": [
  {
   "cell_type": "markdown",
   "id": "3d75eb33",
   "metadata": {},
   "source": [
    "# Tirar dados con Ploty"
   ]
  },
  {
   "cell_type": "markdown",
   "id": "4287321b",
   "metadata": {},
   "source": [
    "Es este apartado usaremos el paquete de Python Plotly para producir visualizaciones interactivas. Ploty es útil cuando creamos visualizaciones que se mostrarán en un navegador, ya que ajustarán su tamaño automáticamente para encajar en la pantalla del ordenador. Además sus presentaciones son interactivas cuando pasamos el ratón por encima de determinados elementos de la pantalla, se destaca información sobre ese elemento.\n",
    "\n",
    "Lo podemos instalar dentro de nuestro directorio virtual con pip3 o python3 -m pip plotly"
   ]
  },
  {
   "cell_type": "code",
   "execution_count": 3,
   "id": "0b71ac4e",
   "metadata": {},
   "outputs": [],
   "source": [
    "\"\"\" Simulamos el lanzamiento de un dado virtual\"\"\"\n",
    "\n",
    "from random import randint\n",
    "\n",
    "class Dado:\n",
    "    \"\"\" Una clase que representa un solo dado.\"\"\"\n",
    "    \n",
    "    def __init__(self, num_caras=6):\n",
    "        \"\"\"Asume que el dado tiene 6 caras.\"\"\"\n",
    "        self.num_caras = num_caras\n",
    "        \n",
    "    def tirar(self):\n",
    "        \"\"\"Devuelve un valor aleatorio entre 1 y el número de caras del dado.\"\"\"\n",
    "        return randint(1, self.num_caras)"
   ]
  },
  {
   "cell_type": "code",
   "execution_count": 4,
   "id": "6736f5eb",
   "metadata": {},
   "outputs": [
    {
     "name": "stdout",
     "output_type": "stream",
     "text": [
      "[2, 4, 4, 2, 3, 1, 1, 1, 2, 2, 5, 3, 2, 4, 4, 6, 5, 6, 1, 2, 5, 6, 6, 2, 1, 3, 1, 3, 6, 4, 2, 6, 5, 6, 4, 6, 5, 1, 6, 1, 1, 1, 3, 2, 3, 5, 6, 1, 4, 4, 3, 2, 6, 2, 3, 2, 1, 4, 2, 6, 4, 1, 3, 4, 4, 5, 4, 3, 2, 2, 3, 4, 2, 3, 5, 3, 2, 6, 6, 4, 6, 6, 4, 1, 5, 1, 4, 3, 4, 3, 5, 6, 1, 2, 1, 3, 1, 2, 5, 5, 4, 5, 6, 2, 5, 3, 6, 6, 1, 1, 3, 2, 6, 6, 1, 4, 2, 4, 2, 3, 6, 2, 5, 3, 4, 6, 1, 6, 5, 5, 2, 4, 4, 5, 1, 4, 4, 3, 5, 2, 5, 3, 4, 3, 2, 6, 5, 5, 5, 3, 2, 1, 4, 2, 4, 5, 5, 4, 4, 5, 4, 3, 3, 5, 4, 2, 2, 6, 3, 1, 2, 4, 1, 6, 5, 5, 5, 2, 6, 2, 4, 3, 6, 4, 1, 6, 6, 2, 5, 1, 5, 5, 5, 2, 4, 2, 5, 3, 1, 1, 2, 1, 4, 3, 2, 3, 5, 3, 1, 5, 5, 6, 6, 2, 1, 4, 5, 1, 2, 2, 3, 6, 6, 5, 6, 4, 2, 3, 3, 2, 4, 1, 4, 3, 4, 3, 5, 5, 3, 6, 5, 4, 4, 4, 5, 5, 2, 6, 4, 1, 3, 6, 5, 3, 1, 5, 4, 6, 4, 3, 3, 5, 3, 2, 6, 6, 3, 5, 6, 1, 4, 5, 1, 5, 5, 2, 4, 3, 4, 4, 5, 6, 3, 2, 2, 3, 6, 2, 3, 1, 4, 5, 5, 2, 3, 6, 2, 1, 5, 1, 3, 4, 5, 6, 4, 1, 2, 3, 3, 6, 2, 1, 1, 6, 3, 5, 6, 2, 1, 6, 6, 4, 3, 2, 2, 3, 6, 5, 6, 2, 4, 4, 5, 2, 5, 5, 5, 6, 5, 5, 1, 2, 2, 4, 6, 6, 5, 1, 6, 3, 4, 4, 5, 3, 5, 4, 1, 6, 4, 5, 6, 3, 5, 6, 1, 5, 3, 4, 6, 5, 1, 4, 5, 4, 2, 5, 3, 6, 2, 4, 6, 2, 2, 4, 1, 1, 4, 5, 2, 4, 6, 6, 5, 4, 5, 1, 6, 2, 3, 6, 4, 1, 6, 6, 4, 4, 6, 6, 5, 6, 6, 5, 5, 6, 6, 2, 4, 4, 4, 6, 6, 3, 5, 4, 1, 4, 5, 2, 2, 4, 4, 5, 2, 3, 5, 1, 6, 1, 2, 5, 1, 1, 3, 1, 2, 4, 5, 4, 3, 4, 2, 5, 1, 6, 2, 2, 1, 4, 4, 2, 3, 5, 5, 1, 2, 3, 4, 2, 3, 6, 2, 5, 5, 5, 1, 4, 1, 4, 4, 5, 3, 3, 4, 3, 6, 6, 6, 4, 3, 5, 6, 4, 3, 1, 5, 2, 2, 4, 2, 1, 4, 3, 5, 1, 4, 2, 4, 1, 4, 2, 6, 5, 6, 4, 5, 2, 3, 2, 1, 2, 3, 1, 4, 4, 2, 2, 6, 6, 4, 2, 4, 5, 5, 4, 2, 6, 6, 1, 3, 4, 6, 3, 1, 2, 1, 6, 2, 4, 4, 4, 4, 6, 2, 6, 4, 2, 2, 1, 1, 6, 5, 1, 3, 6, 4, 1, 5, 6, 2, 6, 5, 2, 2, 4, 6, 3, 3, 3, 4, 6, 4, 5, 5, 4, 1, 6, 4, 5, 3, 4, 4, 1, 6, 2, 2, 3, 3, 6, 1, 6, 2, 5, 5, 6, 6, 3, 3, 3, 1, 6, 2, 5, 1, 4, 2, 3, 1, 1, 2, 4, 6, 3, 5, 5, 6, 1, 1, 4, 3, 3, 4, 4, 3, 2, 2, 2, 5, 5, 2, 4, 5, 5, 1, 2, 4, 6, 4, 5, 3, 4, 5, 1, 3, 5, 3, 6, 2, 6, 5, 1, 1, 5, 2, 3, 4, 3, 5, 5, 2, 5, 1, 2, 6, 5, 2, 3, 3, 1, 1, 5, 5, 3, 1, 2, 6, 2, 5, 5, 6, 2, 4, 2, 3, 6, 4, 5, 2, 1, 6, 6, 3, 5, 4, 3, 6, 6, 4, 3, 2, 2, 6, 2, 2, 6, 2, 2, 3, 3, 6, 3, 4, 6, 6, 6, 1, 2, 5, 3, 4, 4, 1, 2, 5, 2, 2, 4, 4, 1, 3, 5, 1, 1, 4, 6, 4, 3, 2, 2, 5, 1, 5, 5, 5, 6, 2, 3, 1, 5, 4, 5, 6, 1, 2, 5, 4, 1, 3, 2, 5, 2, 3, 5, 2, 3, 6, 3, 6, 3, 2, 2, 6, 4, 3, 4, 6, 4, 2, 2, 2, 4, 5, 4, 6, 1, 1, 1, 3, 1, 3, 1, 2, 2, 3, 2, 6, 1, 5, 2, 4, 6, 6, 6, 6, 6, 3, 3, 6, 3, 6, 2, 5, 4, 3, 2, 1, 5, 6, 3, 5, 6, 1, 4, 2, 2, 2, 3, 1, 1, 5, 5, 6, 6, 3, 2, 2, 6, 6, 1, 6, 4, 6, 4, 3, 2, 2, 2, 2, 2, 2, 2, 2, 5, 4, 4, 5, 4, 1, 2, 5, 3, 3, 5, 3, 4, 6, 5, 4, 1, 5, 3, 1, 4, 1, 2, 3, 6, 6, 5, 1, 3, 5, 1, 3, 4, 4, 6, 4, 3, 3, 4, 4, 2, 6, 5, 6, 3, 2, 4, 1, 5, 4, 5, 1, 6, 5, 4, 1, 2, 1, 2, 5, 2, 1, 5, 5, 6, 5, 6, 4, 1, 4, 6, 2, 2, 4, 5, 3, 3, 2, 4, 5, 3, 3, 5, 5, 1, 2, 6, 2, 5, 5, 1, 4, 4, 6, 4, 4, 1, 1, 5, 1, 3, 2, 4, 4, 3, 5, 5, 3, 5, 3, 2, 4, 4, 3, 3, 6, 4, 1, 1, 2, 1, 2, 3, 1, 6, 1, 2, 3, 3, 6, 1, 6, 5, 6, 4, 1, 3, 5, 4]\n"
     ]
    }
   ],
   "source": [
    "# Creamos un dado de 6 caras\n",
    "d6 = Dado()\n",
    "resultados = []\n",
    "\n",
    "# Hace algunas tiradas y guarda los resultados en una lista []\n",
    "\n",
    "for tiro in range(1000):\n",
    "    resultado = d6.tirar()\n",
    "    resultados.append(resultado)\n",
    "    \n",
    "print(resultados)\n"
   ]
  },
  {
   "cell_type": "markdown",
   "id": "9816bd0f",
   "metadata": {},
   "source": [
    "Vamos a analizar los resultados de tirar un dado contando cuantas veces sale cada número."
   ]
  },
  {
   "cell_type": "code",
   "execution_count": 5,
   "id": "87d21dd0",
   "metadata": {},
   "outputs": [
    {
     "name": "stdout",
     "output_type": "stream",
     "text": [
      "[141, 179, 153, 181, 177, 169]\n"
     ]
    }
   ],
   "source": [
    "# Analiza los resultados.\n",
    "\n",
    "frecuencias = []\n",
    "for valor in range(1, d6.num_caras + 1):\n",
    "    frecuencia = resultados.count(valor) # Cuenta el numero de veces que el elemnto esta en la lista, tupla etc\n",
    "    frecuencias.append(frecuencia)\n",
    "    \n",
    "print(frecuencias)"
   ]
  },
  {
   "cell_type": "markdown",
   "id": "ee6255b3",
   "metadata": {},
   "source": [
    "## Hacer un histográma de las frecuencias."
   ]
  },
  {
   "cell_type": "code",
   "execution_count": 8,
   "id": "fdee9a25",
   "metadata": {},
   "outputs": [
    {
     "data": {
      "text/plain": [
       "'d6.html'"
      ]
     },
     "execution_count": 8,
     "metadata": {},
     "output_type": "execute_result"
    }
   ],
   "source": [
    "# Visualiza los resultados.\n",
    "\n",
    "from plotly.graph_objs import Bar, Layout\n",
    "from plotly import offline\n",
    "\n",
    "valores_x = list(range(1, d6.num_caras + 1)) # (1)\n",
    "data = [Bar(x=valores_x, y=frecuencias)] # (2) Aunque podría ir sin los corchetes.\n",
    "\n",
    "x_axis_config = {'title': 'Resultado'} # (3)\n",
    "y_axis_config = {'title': 'Frecuencia de Resultados'}\n",
    "# (4)\n",
    "mi_grafico = Layout(title='Resultados de tirar un dado de 6 caras 1.000 veces', xaxis=x_axis_config, yaxis=y_axis_config)\n",
    "offline.plot({'data': data, 'layout': mi_grafico}, filename='d6.html') # (5)\n",
    "\n"
   ]
  },
  {
   "cell_type": "markdown",
   "id": "13b8993b",
   "metadata": {},
   "source": [
    "Para hacer un histograma, necesitamos una bara para cada uno de los resultados posibles. Lo guardamos en una lista llamada valores_x, que empieza en 1 y termina en el número de caras del dado (1). Plotly no acepta los resultados de la función range() directamente, asi que tenemos que convertir el rango en una lista de forma explicita con la función list(). La clase Bar() de Plotly representa un conjunto de datos que tendrá el formato de un código de barras. (2) Esta clase necesita una lista de valores x e y. La clase debe ir entre corchetes , ya que un conjunto de datos puede tener multiples elementos. \n",
    "\n",
    "Cada eje puede configurarse de distintas maneras y cada opción de configuración se guarda como una entrada en un diccionario. En (3)  ponemos por tanto los títulos a cada eje. La clas Layout() devuelme un objeto que especifica la disposición y configuración del gráfico como un todo. (4)\n",
    "\n",
    "Para generar el trazado llamamos a la función offline.plot() (5) Esta función necesita un diccionario que contiene los datos y objetos de diseño, y también acepta un nombre para el archivo donde se guardará el gráfico."
   ]
  },
  {
   "cell_type": "markdown",
   "id": "6de909d0",
   "metadata": {},
   "source": [
    "## ¿Que pasa si tiramos dos dados?"
   ]
  },
  {
   "cell_type": "code",
   "execution_count": 14,
   "id": "3fc07070",
   "metadata": {},
   "outputs": [
    {
     "data": {
      "text/plain": [
       "'d6_d6.html'"
      ]
     },
     "execution_count": 14,
     "metadata": {},
     "output_type": "execute_result"
    }
   ],
   "source": [
    "# Visualiza los resultados.\n",
    "\n",
    "from plotly.graph_objs import Bar, Layout\n",
    "from plotly import offline\n",
    "\n",
    "\n",
    "# Creamos dos dados.\n",
    "dado_1 = Dado()\n",
    "dado_2 = Dado()\n",
    "\n",
    "resultados = []\n",
    "\n",
    "# Hace algunas tiradas y guarda los resultados en una lista []\n",
    "\n",
    "for tiro in range(1000):\n",
    "    resultado = dado_1.tirar() + dado_2.tirar()\n",
    "    resultados.append(resultado)\n",
    "    \n",
    "# Analiza los resultados.\n",
    "\n",
    "frecuencias = []\n",
    "valor_maximo = dado_1.num_caras + dado_2.num_caras\n",
    "for valor in range(2, valor_maximo + 1):\n",
    "    frecuencia = resultados.count(valor) # Cuenta el numero de veces que el elemnto esta en la lista, tupla etc\n",
    "    frecuencias.append(frecuencia)\n",
    "\n",
    "\n",
    "# Visualiza los resultados.\n",
    "    \n",
    "valores_x = list(range(2, valor_maximo + 1)) # (1)\n",
    "data = [Bar(x=valores_x, y=frecuencias)] # (2) Aunque podría ir sin los corchetes.\n",
    "\n",
    "x_axis_config = {'title': 'Resultado', 'dtick': 1} # (3)\n",
    "y_axis_config = {'title': 'Frecuencia de Resultados'}\n",
    "# (4)\n",
    "mi_grafico = Layout(title='Resultados de tirar dos dados de 6 caras 1.000 veces', xaxis=x_axis_config, yaxis=y_axis_config)\n",
    "offline.plot({'data': data, 'layout': mi_grafico}, filename='d6_d6.html') # (5)"
   ]
  },
  {
   "cell_type": "markdown",
   "id": "e7bd581a",
   "metadata": {},
   "source": [
    "(3) La configuración 'dtick' le dice a Plotly que etiquete todas las marcas. Ya que ahora que tenemos más barras en el histograma, la configuración predeterminada de Plotly haría que se etiquetarán solo algunas."
   ]
  },
  {
   "cell_type": "markdown",
   "id": "be79b179",
   "metadata": {},
   "source": [
    "## Que pasa si tiramos dados de distintos numeros de caras 50.000 veces\n",
    "\n"
   ]
  },
  {
   "cell_type": "code",
   "execution_count": null,
   "id": "c5e8c2b1",
   "metadata": {},
   "outputs": [],
   "source": [
    "# Visualiza los resultados.\n",
    "\n",
    "from plotly.graph_objs import Bar, Layout\n",
    "from plotly import offline\n",
    "\n",
    "\n",
    "# Creamos dos dados, uno de 6 caras y otro de 10.\n",
    "dado_1 = Dado()\n",
    "dado_2 = Dado()\n",
    "\n",
    "resultados = []\n",
    "\n",
    "# Hace algunas tiradas y guarda los resultados en una lista []\n",
    "\n",
    "for tiro in range(1000):\n",
    "    resultado = dado_1.tirar() + dado_2.tirar()\n",
    "    resultados.append(resultado)\n",
    "    \n",
    "# Analiza los resultados.\n",
    "\n",
    "frecuencias = []\n",
    "valor_maximo = dado_1.num_caras + dado_2.num_caras\n",
    "for valor in range(2, valor_maximo + 1):\n",
    "    frecuencia = resultados.count(valor) # Cuenta el numero de veces que el elemnto esta en la lista, tupla etc\n",
    "    frecuencias.append(frecuencia)\n",
    "\n",
    "\n",
    "# Visualiza los resultados.\n",
    "    \n",
    "valores_x = list(range(2, valor_maximo + 1)) # (1)\n",
    "data = [Bar(x=valores_x, y=frecuencias)] # (2) Aunque podría ir sin los corchetes.\n",
    "\n",
    "x_axis_config = {'title': 'Resultado', 'dtick': 1} # (3)\n",
    "y_axis_config = {'title': 'Frecuencia de Resultados'}\n",
    "# (4)\n",
    "mi_grafico = Layout(title='Resultados de tirar dos dados de 6 caras 1.000 veces', xaxis=x_axis_config, yaxis=y_axis_config)\n",
    "offline.plot({'data': data, 'layout': mi_grafico}, filename='d6_d6.html') # (5)"
   ]
  }
 ],
 "metadata": {
  "kernelspec": {
   "display_name": "Python 3.8.10 64-bit ('venv': venv)",
   "language": "python",
   "name": "python3810jvsc74a57bd0266d736f9bd55cd639bed935c0f01ab1f3f7baae54737c41f0e061778d8db022"
  },
  "language_info": {
   "codemirror_mode": {
    "name": "ipython",
    "version": 3
   },
   "file_extension": ".py",
   "mimetype": "text/x-python",
   "name": "python",
   "nbconvert_exporter": "python",
   "pygments_lexer": "ipython3",
   "version": "3.8.10"
  }
 },
 "nbformat": 4,
 "nbformat_minor": 5
}
